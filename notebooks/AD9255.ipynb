{
 "cells": [
  {
   "attachments": {},
   "cell_type": "markdown",
   "metadata": {},
   "source": [
    "### Frontend for AD9255\n",
    "\n",
    "This notebook shows how to calculate the parameters of the transformer-coupled frontend using the process described in [AN-935](https://www.analog.com/en/resources/app-notes/an-935.html)."
   ]
  },
  {
   "attachments": {},
   "cell_type": "markdown",
   "metadata": {},
   "source": [
    "Import the required libraries."
   ]
  },
  {
   "cell_type": "code",
   "execution_count": null,
   "metadata": {},
   "outputs": [],
   "source": [
    "import numpy as np\n",
    "import pylab as pl"
   ]
  },
  {
   "attachments": {},
   "cell_type": "markdown",
   "metadata": {},
   "source": [
    "Read data."
   ]
  },
  {
   "cell_type": "code",
   "execution_count": null,
   "metadata": {},
   "outputs": [],
   "source": [
    "adc = np.loadtxt(\"AD9255.txt\")\n",
    "\n",
    "f = adc[:, 0]\n",
    "\n",
    "Rt = adc[:, 1]\n",
    "Ct = adc[:, 2]\n",
    "\n",
    "Rh = adc[:, 3]\n",
    "Ch = adc[:, 4]\n",
    "\n",
    "tr = np.loadtxt(\"TC4-1T+.txt\")\n",
    "\n",
    "ftr = tr[:, 0]\n",
    "RLtr = tr[:, 2]\n",
    "\n",
    "def RLcorr(f):\n",
    "    RL = -np.interp(f, ftr, RLtr)\n",
    "    return (1 - 10 ** (RL / 20)) / (1 + 10 ** (RL / 20))"
   ]
  },
  {
   "attachments": {},
   "cell_type": "markdown",
   "metadata": {},
   "source": [
    "Plot data."
   ]
  },
  {
   "cell_type": "code",
   "execution_count": null,
   "metadata": {},
   "outputs": [],
   "source": [
    "pl.plot(f, Rt, label=\"track mode\")\n",
    "pl.plot(f, Rh, label=\"hold mode\")\n",
    "\n",
    "pl.ylabel(\"kOhm\")\n",
    "pl.xlabel(\"MHz\")\n",
    "\n",
    "pl.ylim(0, 30)\n",
    "pl.xlim(0, 100)\n",
    "\n",
    "pl.grid()\n",
    "pl.legend()\n",
    "pl.show()"
   ]
  },
  {
   "cell_type": "code",
   "execution_count": null,
   "metadata": {},
   "outputs": [],
   "source": [
    "pl.plot(f, Ct, label=\"track mode\")\n",
    "pl.plot(f, Ch, label=\"hold mode\")\n",
    "\n",
    "pl.ylabel(\"pF\")\n",
    "pl.xlabel(\"MHz\")\n",
    "\n",
    "pl.ylim(0, 16)\n",
    "pl.xlim(0, 100)\n",
    "\n",
    "pl.grid()\n",
    "pl.legend()\n",
    "pl.show()"
   ]
  },
  {
   "cell_type": "markdown",
   "metadata": {},
   "source": [
    "Frontend with inductance."
   ]
  },
  {
   "cell_type": "code",
   "execution_count": null,
   "metadata": {},
   "outputs": [],
   "source": [
    "def Z(f, RA, CA, L, RS, RP):\n",
    "    ZCA = 1 / (1j * 2 * np.pi * f * CA)\n",
    "    ZA = 1 / (1 / RA + 1 / ZCA)\n",
    "    ZL = 1j * 2 * np.pi * f * L\n",
    "    ZALRS = 1 / (1 / ZA + 1 / ZL) + RS * 2\n",
    "    ZALRSRP = 1 / (1 / ZALRS + 1 / RP)\n",
    "    return ZALRSRP\n",
    "\n",
    "\n",
    "corr = RLcorr(f)\n",
    "\n",
    "result = Z(f * 1e6, Rt * 1e3, Ct * 1e-12, 33e-6, 33, 220) * corr / 4\n",
    "\n",
    "pl.plot(f, np.real(result), label=\"Re(Z)\")\n",
    "pl.plot(f, np.imag(result), label=\"Im(Z)\")\n",
    "\n",
    "pl.ylabel(\"Ohm\")\n",
    "pl.xlabel(\"MHz\")\n",
    "\n",
    "pl.ylim(-20, 60)\n",
    "pl.xlim(0, 100)\n",
    "\n",
    "pl.grid()\n",
    "pl.legend()\n",
    "pl.show()"
   ]
  },
  {
   "cell_type": "markdown",
   "metadata": {},
   "source": [
    "Frontend without inductance."
   ]
  },
  {
   "cell_type": "code",
   "execution_count": null,
   "metadata": {},
   "outputs": [],
   "source": [
    "def Z1(f, RA, CA, RS, RP):\n",
    "    ZCA = 1 / (1j * 2 * np.pi * f * CA)\n",
    "    ZA = 1 / (1 / RA + 1 / ZCA)\n",
    "    ZARS = ZA + RS * 2\n",
    "    ZARSRP = 1 / (1 / ZARS + 1 / RP)\n",
    "    return ZARSRP\n",
    "\n",
    "\n",
    "corr = RLcorr(f)\n",
    "\n",
    "result = Z1(f * 1e6, Rt * 1e3, Ct * 1e-12, 33, 220) * corr / 4\n",
    "\n",
    "pl.plot(f, np.real(result), label=\"Re(Z)\")\n",
    "pl.plot(f, np.imag(result), label=\"Im(Z)\")\n",
    "pl.plot(f, np.absolute(result), label=\"|Z|\")\n",
    "\n",
    "pl.ylabel(\"Ohm\")\n",
    "pl.xlabel(\"MHz\")\n",
    "\n",
    "pl.ylim(-20, 70)\n",
    "pl.xlim(0, 100)\n",
    "\n",
    "pl.grid()\n",
    "pl.legend()\n",
    "pl.show()"
   ]
  },
  {
   "cell_type": "code",
   "execution_count": null,
   "metadata": {},
   "outputs": [],
   "source": [
    "def Z2(f, RA, CA, RS, RP):\n",
    "    ZCA = 1 / (1j * 2 * np.pi * f * CA)\n",
    "    ZA = 1 / (1 / RA + 1 / ZCA)\n",
    "    ZARP = 1 / (1 / ZA + 1 / RP)\n",
    "    ZARPRS = ZARP + RS * 2\n",
    "    return ZARPRS\n",
    "\n",
    "\n",
    "corr = RLcorr(f)\n",
    "\n",
    "result = Z2(f * 1e6, Rt * 1e3, Ct * 1e-12, 10, 200) * corr / 4\n",
    "\n",
    "pl.plot(f, np.real(result), label=\"Re(Z)\")\n",
    "pl.plot(f, np.imag(result), label=\"Im(Z)\")\n",
    "pl.plot(f, np.absolute(result), label=\"|Z|\")\n",
    "pl.ylabel(\"Ohm\")\n",
    "pl.xlabel(\"MHz\")\n",
    "\n",
    "pl.ylim(-20, 70)\n",
    "pl.xlim(0, 100)\n",
    "\n",
    "pl.grid()\n",
    "pl.legend()\n",
    "pl.show()"
   ]
  },
  {
   "cell_type": "code",
   "execution_count": null,
   "metadata": {},
   "outputs": [],
   "source": [
    "def F1(f, RA, CA, RS, RP):\n",
    "    ZCA = 1 / (1j * 2 * np.pi * f * CA)\n",
    "    ZA = 1 / (1 / RA + 1 / ZCA)\n",
    "    ZARS = ZA + RS * 2\n",
    "    ZARSRP = 1 / (1 / ZARS + 1 / RP)\n",
    "    return np.absolute(ZARSRP / (ZARSRP + 220) * ZA / ZARS)\n",
    "\n",
    "\n",
    "def F2(f, RA, CA, RS, RP):\n",
    "    ZCA = 1 / (1j * 2 * np.pi * f * CA)\n",
    "    ZA = 1 / (1 / RA + 1 / ZCA)\n",
    "    ZARP = 1 / (1 / ZA + 1 / RP)\n",
    "    ZARPRS = ZARP + RS * 2\n",
    "    return np.absolute(ZARPRS / (ZARPRS + 220) * ZARP / ZARPRS)\n",
    "\n",
    "\n",
    "r1 = F1(f * 1e6, Rt * 1e3, Ct * 1e-12, 33, 220)\n",
    "r2 = F2(f * 1e6, Rt * 1e3, Ct * 1e-12, 10, 200)\n",
    "\n",
    "pl.plot(f, 20 * np.log10(r1), label=\"F1\")\n",
    "pl.plot(f, 20 * np.log10(r2), label=\"F2\")\n",
    "\n",
    "pl.xlabel(\"MHz\")\n",
    "\n",
    "pl.ylim(-9, -4)\n",
    "pl.xlim(0, 100)\n",
    "\n",
    "pl.grid()\n",
    "pl.legend()\n",
    "pl.show()"
   ]
  }
 ],
 "metadata": {
  "kernelspec": {
   "display_name": "Python 3 (ipykernel)",
   "language": "python",
   "name": "python3"
  },
  "language_info": {
   "codemirror_mode": {
    "name": "ipython",
    "version": 3
   },
   "file_extension": ".py",
   "mimetype": "text/x-python",
   "name": "python",
   "nbconvert_exporter": "python",
   "pygments_lexer": "ipython3",
   "version": "3.11.2"
  }
 },
 "nbformat": 4,
 "nbformat_minor": 4
}
